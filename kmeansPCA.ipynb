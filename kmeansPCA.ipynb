{
 "cells": [
  {
   "cell_type": "code",
   "execution_count": 1,
   "metadata": {},
   "outputs": [],
   "source": [
    "#Don't mind this box\n",
    "import os\n",
    "# Retrieve current working directory (`cwd`)\n",
    "cwd = os.getcwd()\n",
    "cwd\n",
    "\n",
    "# Change directory \n",
    "os.chdir(\"/Users/alex/Desktop/vodafone\")\n",
    "\n",
    "# List all files and directories in current directory\n",
    "#os.listdir('.')"
   ]
  },
  {
   "cell_type": "code",
   "execution_count": 2,
   "metadata": {
    "collapsed": true
   },
   "outputs": [],
   "source": [
    "#Clustering with k means and PCA\n",
    "\n",
    "import pandas as pd\n",
    "from sklearn.cluster import KMeans\n",
    "import matplotlib.pyplot as plt\n",
    "%matplotlib inline\n",
    "import numpy as np\n",
    "from sklearn.decomposition import PCA"
   ]
  },
  {
   "cell_type": "code",
   "execution_count": 3,
   "metadata": {
    "collapsed": true
   },
   "outputs": [],
   "source": [
    "#load data \n",
    "df=pd.read_csv('data_train1.csv')\n",
    "df=df.drop(['Store_ID'],axis=1)\n",
    "\n",
    "#choose target\n",
    "X=df.iloc[:,:-1].values\n",
    "y=df['Footfall_classif'].values"
   ]
  },
  {
   "cell_type": "code",
   "execution_count": 4,
   "metadata": {
    "collapsed": true
   },
   "outputs": [],
   "source": [
    "from sklearn.model_selection import train_test_split  \n",
    "X_train, X_test, y_train, y_test = train_test_split(X, y, test_size=0.20) "
   ]
  },
  {
   "cell_type": "code",
   "execution_count": 5,
   "metadata": {},
   "outputs": [
    {
     "data": {
      "text/plain": [
       "KMeans(algorithm='auto', copy_x=True, init='k-means++', max_iter=300,\n",
       "    n_clusters=3, n_init=10, n_jobs=1, precompute_distances='auto',\n",
       "    random_state=None, tol=0.0001, verbose=0)"
      ]
     },
     "execution_count": 5,
     "metadata": {},
     "output_type": "execute_result"
    }
   ],
   "source": [
    "#Reduce data to 2 components for the plot\n",
    "data_PCA = PCA(n_components=2).fit_transform(X_train)\n",
    "\n",
    "#Choose 3 clusters since labels=0,1,2\n",
    "k_means = KMeans(n_clusters=3)\n",
    "k_means.fit(data_PCA)"
   ]
  },
  {
   "cell_type": "code",
   "execution_count": 6,
   "metadata": {},
   "outputs": [],
   "source": [
    "#Build the the bounding box in data coordinates that the image will fill.\n",
    "\n",
    "x_min, x_max = data_PCA[:, 0].min(), data_PCA[:, 0].max()\n",
    "y_min, y_max = data_PCA[:, 1].min(), data_PCA[:, 1].max() \n",
    "\n",
    "xx, yy = np.meshgrid(np.arange(x_min, x_max), np.arange(y_min, y_max))\n",
    "\n",
    "#ravel returns a 1_D array (it's like a reshape)\n",
    "#np.c_Translates slice objects to concatenation along the second axis. \n",
    "Z = k_means.predict(np.c_[xx.ravel(), yy.ravel()])\n",
    "Z = Z.reshape(xx.shape)"
   ]
  },
  {
   "cell_type": "code",
   "execution_count": 7,
   "metadata": {},
   "outputs": [
    {
     "data": {
      "text/plain": [
       "<matplotlib.collections.PathCollection at 0x1a1a25e588>"
      ]
     },
     "execution_count": 7,
     "metadata": {},
     "output_type": "execute_result"
    },
    {
     "data": {
      "image/png": "[encoded data removed]",
      "text/plain": [
       "<matplotlib.figure.Figure at 0x10e54c6d8>"
      ]
     },
     "metadata": {},
     "output_type": "display_data"
    }
   ],
   "source": [
    "#plot kmeans clustering\n",
    "plt.figure(1)\n",
    "plt.clf()\n",
    "plt.imshow(Z, interpolation='nearest',\n",
    "          extent=(xx.min(), xx.max(), yy.min(), yy.max()),\n",
    "          cmap=plt.cm.Paired,\n",
    "          aspect='auto', origin='lower')\n",
    "\n",
    "plt.plot(data_PCA[:, 0], data_PCA[:, 1], 'k.', markersize=4)\n",
    "\n",
    "centroids = k_means.cluster_centers_\n",
    "inert = k_means.inertia_\n",
    "plt.scatter(centroids[:, 0], centroids[:, 1],\n",
    "           marker='x', s=169, linewidths=3,\n",
    "           color='blue', zorder=8)"
   ]
  },
  {
   "cell_type": "code",
   "execution_count": null,
   "metadata": {
    "collapsed": true
   },
   "outputs": [],
   "source": []
  }
 ],
 "metadata": {
  "kernelspec": {
   "display_name": "Python 3",
   "language": "python",
   "name": "python3"
  },
  "language_info": {
   "codemirror_mode": {
    "name": "ipython",
    "version": 3
   },
   "file_extension": ".py",
   "mimetype": "text/x-python",
   "name": "python",
   "nbconvert_exporter": "python",
   "pygments_lexer": "ipython3",
   "version": "3.6.3"
  }
 },
 "nbformat": 4,
 "nbformat_minor": 2
}
