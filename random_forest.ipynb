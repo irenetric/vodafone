{
 "cells": [
  {
   "cell_type": "code",
   "execution_count": 1,
   "metadata": {},
   "outputs": [],
   "source": [
    "#Don't mind this box\n",
    "import os\n",
    "import pandas as pd\n",
    "# Retrieve current working directory (`cwd`)\n",
    "cwd = os.getcwd()\n",
    "cwd\n",
    "\n",
    "# Change directory \n",
    "os.chdir(\"/Users/alex/Desktop/vodafone\")\n",
    "\n",
    "# List all files and directories in current directory\n",
    "#os.listdir('.')"
   ]
  },
  {
   "cell_type": "code",
   "execution_count": 3,
   "metadata": {},
   "outputs": [],
   "source": [
    "#Very simple version of Random forest\n",
    "df=pd.read_csv('data_train1.csv')\n",
    "df=df.drop(['Store_ID'],axis=1)\n",
    "X=df.iloc[:,:-1].values\n",
    "y=df['Footfall_classif'].values"
   ]
  },
  {
   "cell_type": "code",
   "execution_count": 4,
   "metadata": {
    "collapsed": true
   },
   "outputs": [],
   "source": [
    "from sklearn.model_selection import train_test_split  \n",
    "X_train, X_test, y_train, y_test = train_test_split(X, y, test_size=0.20) "
   ]
  },
  {
   "cell_type": "code",
   "execution_count": 5,
   "metadata": {
    "collapsed": true
   },
   "outputs": [],
   "source": [
    "import numpy as np\n",
    "from sklearn.metrics import accuracy_score\n",
    "from sklearn.ensemble import RandomForestClassifier\n",
    "\n",
    "classifier = RandomForestClassifier(n_estimators=20, random_state=0)  \n",
    "classifier.fit(X_train, y_train)  \n",
    "y_pred = classifier.predict(X_test)  "
   ]
  },
  {
   "cell_type": "code",
   "execution_count": 6,
   "metadata": {},
   "outputs": [
    {
     "name": "stdout",
     "output_type": "stream",
     "text": [
      "[[21  0  0]\n",
      " [ 4 24  1]\n",
      " [ 0  1 14]]\n",
      "             precision    recall  f1-score   support\n",
      "\n",
      "          0       0.84      1.00      0.91        21\n",
      "          1       0.96      0.83      0.89        29\n",
      "          2       0.93      0.93      0.93        15\n",
      "\n",
      "avg / total       0.92      0.91      0.91        65\n",
      "\n",
      "0.907692307692\n"
     ]
    }
   ],
   "source": [
    "from sklearn.metrics import classification_report, confusion_matrix, accuracy_score\n",
    "\n",
    "print(confusion_matrix(y_test,y_pred))  \n",
    "print(classification_report(y_test,y_pred))  \n",
    "print(accuracy_score(y_test, y_pred))  "
   ]
  },
  {
   "cell_type": "code",
   "execution_count": 7,
   "metadata": {},
   "outputs": [
    {
     "name": "stdout",
     "output_type": "stream",
     "text": [
      "accuracy =  0.907692307692\n"
     ]
    }
   ],
   "source": [
    "accuracy = accuracy_score(y_test,y_pred)\n",
    "print('accuracy = ',accuracy)"
   ]
  },
  {
   "cell_type": "code",
   "execution_count": 8,
   "metadata": {},
   "outputs": [
    {
     "name": "stdout",
     "output_type": "stream",
     "text": [
      "[1 1 0 0 1 1 0 2 0 2 2 2 1 1 0 0 1 0 2 1 2 0 1 1 0 1 0 2 1 2 1 1 2 0 0 1 1\n",
      " 0 0 0 1 0 0 0 0 2 2 1 0 1 1 0 0 1 0 2 1 0 0 2 1 1 2 1 2]\n",
      "\n",
      "\n",
      "[1 1 0 0 1 1 0 2 0 2 2 2 1 1 0 0 2 0 2 1 2 0 1 1 0 1 1 2 1 2 1 1 1 1 0 1 1\n",
      " 0 0 0 1 0 0 0 0 2 2 1 1 1 1 0 1 1 0 2 1 0 0 2 1 1 2 1 2]\n"
     ]
    }
   ],
   "source": [
    "print(y_pred)\n",
    "print('\\n')\n",
    "print(y_test)"
   ]
  },
  {
   "cell_type": "code",
   "execution_count": null,
   "metadata": {
    "collapsed": true
   },
   "outputs": [],
   "source": []
  }
 ],
 "metadata": {
  "kernelspec": {
   "display_name": "Python 3",
   "language": "python",
   "name": "python3"
  },
  "language_info": {
   "codemirror_mode": {
    "name": "ipython",
    "version": 3
   },
   "file_extension": ".py",
   "mimetype": "text/x-python",
   "name": "python",
   "nbconvert_exporter": "python",
   "pygments_lexer": "ipython3",
   "version": "3.6.3"
  }
 },
 "nbformat": 4,
 "nbformat_minor": 2
}
