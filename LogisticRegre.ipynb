{
 "cells": [
  {
   "cell_type": "code",
   "execution_count": 1,
   "metadata": {},
   "outputs": [],
   "source": [
    "#Don't mind this BOX\n",
    "import os\n",
    "# Retrieve current working directory (`cwd`)\n",
    "cwd = os.getcwd()\n",
    "cwd\n",
    "\n",
    "# Change directory \n",
    "os.chdir(\"/Users/alex/Desktop/vodafone\")\n",
    "\n",
    "# List all files and directories in current directory\n",
    "#os.listdir('.')"
   ]
  },
  {
   "cell_type": "code",
   "execution_count": 2,
   "metadata": {
    "collapsed": true
   },
   "outputs": [],
   "source": [
    "#Logistic Regression classifier (good accuracy)\n",
    "#Some packages\n",
    "\n",
    "import pandas as pd\n",
    "import numpy as np\n",
    "import matplotlib.pyplot as plt\n",
    "%matplotlib inline\n",
    "from sklearn.linear_model import LogisticRegression\n",
    "from sklearn.metrics import accuracy_score \n",
    "\n",
    "#Load data without storeID\n",
    "df=pd.read_csv('data_train1.csv')\n",
    "df=df.drop(['Store_ID'],axis=1)"
   ]
  },
  {
   "cell_type": "code",
   "execution_count": 3,
   "metadata": {},
   "outputs": [
    {
     "name": "stdout",
     "output_type": "stream",
     "text": [
      "Metratura_scaled                 5\n",
      "FTE_scaled                       0\n",
      "PTE_scaled                       0\n",
      "QAC_Oct_scaled                   0\n",
      "QAC_Nov_scaled                   0\n",
      "QAC_Dec_scaled                   0\n",
      "QAC_Jan_scaled                   0\n",
      "QAC_Feb_scaled                   0\n",
      "QAC_Mar_scaled                   0\n",
      "TNPS_Oct_scaled                  0\n",
      "TNPS_Nov_scaled                  0\n",
      "TNPS_Dec_scaled                  0\n",
      "TNPS_Jan_scaled                  0\n",
      "TNPS_Feb_scaled                  0\n",
      "Tipologia_encoded                0\n",
      "Localita_encoded                 0\n",
      "area_encoded                     0\n",
      "SM si/no_encoded                 0\n",
      "Provincia_encoded                0\n",
      "Footfall                         0\n",
      "night_Fixed_CB_%_scaled_200      0\n",
      "midday_Fixed_CB_%_scaled_200     0\n",
      "CB_Night_scaled_200              0\n",
      "CB_Midday_scaled_200             0\n",
      "CB_Weekend_scaled_200            0\n",
      "night_MEAN_scaled_ARPU_200       0\n",
      "night_MIN_scaled_ARPU_200        0\n",
      "night_MAX_scaled_ARPU_200        0\n",
      "midday_MEAN_scaled_ARPU_200      0\n",
      "midday_MIN_scaled_ARPU_200       0\n",
      "                                ..\n",
      "weekend_MAX_scaled_ARPU_200      0\n",
      "night_Fixed_CB_%_scaled_500      0\n",
      "midday_Fixed_CB_%_scaled_500     0\n",
      "CB_Night_scaled_500              0\n",
      "CB_Midday_scaled_500             0\n",
      "CB_Weekend_scaled_500            0\n",
      "night_MEAN_scaled_ARPU_500       0\n",
      "night_MIN_scaled_ARPU_500        0\n",
      "night_MAX_scaled_ARPU_500        0\n",
      "midday_MEAN_scaled_ARPU_500      0\n",
      "midday_MIN_scaled_ARPU_500       0\n",
      "midday_MAX_scaled_ARPU_500       0\n",
      "weekend_MEAN_scaled_ARPU_500     0\n",
      "weekend_MIN_scaled_ARPU_500      0\n",
      "weekend_MAX_scaled_ARPU_500      0\n",
      "night_Fixed_CB_%_scaled_1000     0\n",
      "midday_Fixed_CB_%_scaled_1000    0\n",
      "CB_Night_scaled_1000             0\n",
      "CB_Midday_scaled_1000            0\n",
      "CB_Weekend_scaled_1000           0\n",
      "night_MEAN_scaled_ARPU_1000      0\n",
      "night_MIN_scaled_ARPU_1000       0\n",
      "night_MAX_scaled_ARPU_1000       0\n",
      "midday_MEAN_scaled_ARPU_1000     0\n",
      "midday_MIN_scaled_ARPU_1000      0\n",
      "midday_MAX_scaled_ARPU_1000      0\n",
      "weekend_MEAN_scaled_ARPU_1000    0\n",
      "weekend_MIN_scaled_ARPU_1000     0\n",
      "weekend_MAX_scaled_ARPU_1000     0\n",
      "Footfall_classif                 0\n",
      "Length: 63, dtype: int64\n",
      "(322, 63)\n"
     ]
    }
   ],
   "source": [
    "#Fix the missing values\n",
    "\n",
    "df['Metratura_scaled'] = df['Metratura_scaled'].replace(0, np.NaN)\n",
    "# count the number of NaN values in each column\n",
    "print(df.isnull().sum())\n",
    "print(df.shape)\n",
    "#Substitute the Nan with the mean \n",
    "df.fillna(df['Metratura_scaled'].mean(), inplace=True)\n",
    "#print(df)"
   ]
  },
  {
   "cell_type": "code",
   "execution_count": 4,
   "metadata": {
    "collapsed": true
   },
   "outputs": [],
   "source": [
    "#Choose the target \n",
    "\n",
    "X=df.iloc[:,:-1].values\n",
    "y=df['Footfall_classif'].values"
   ]
  },
  {
   "cell_type": "code",
   "execution_count": 5,
   "metadata": {},
   "outputs": [
    {
     "name": "stdout",
     "output_type": "stream",
     "text": [
      "[[ 1.         -0.12493083 -0.10771123 ...,  0.11556888 -0.16778677\n",
      "   0.11579507]\n",
      " [-0.12493083  1.         -0.33717258 ...,  0.16175894 -0.04130633\n",
      "   0.07793883]\n",
      " [-0.10771123 -0.33717258  1.         ..., -0.18106336  0.04854124\n",
      "  -0.13009963]\n",
      " ..., \n",
      " [ 0.11556888  0.16175894 -0.18106336 ...,  1.         -0.44390059\n",
      "   0.52452432]\n",
      " [-0.16778677 -0.04130633  0.04854124 ..., -0.44390059  1.         -0.45279679]\n",
      " [ 0.11579507  0.07793883 -0.13009963 ...,  0.52452432 -0.45279679  1.        ]]\n",
      "\n",
      " \n",
      "\n",
      "-0.0234112041007\n",
      "0.406999270973\n",
      "0.0960249729788\n",
      "0.162755720254\n",
      "0.0149837102526\n",
      "0.183390858178\n",
      "0.231155666838\n",
      "0.226868547478\n",
      "0.164068577143\n",
      "-0.0386574108513\n",
      "-0.0759012788192\n",
      "-0.0612771505791\n",
      "-0.051933435779\n",
      "-0.0879973915844\n",
      "0.318205479855\n",
      "-0.0277974661379\n",
      "-0.178233693709\n",
      "0.25461581907\n",
      "-0.0288900622174\n",
      "0.86303199239\n",
      "-0.0233162363947\n",
      "0.0119577235021\n",
      "-0.0537207892896\n",
      "0.0147809066689\n",
      "0.0786179136876\n",
      "-0.00979086910458\n",
      "-0.0820872477741\n",
      "-0.0118834689443\n",
      "-0.0282568020436\n",
      "-0.0942745055238\n",
      "0.093992015102\n",
      "-0.0979505527461\n",
      "-0.105723413129\n",
      "0.0748377047399\n",
      "-0.0853714300195\n",
      "0.0170350210247\n",
      "0.0595347717181\n",
      "0.0991162864417\n",
      "0.13845298391\n",
      "-0.00979086910458\n",
      "-0.0820872477741\n",
      "-0.0118834689443\n",
      "-0.0282568020436\n",
      "-0.0942745055238\n",
      "0.093992015102\n",
      "-0.0979505527461\n",
      "-0.105723413129\n",
      "0.0748377047399\n",
      "-0.0525143551683\n",
      "-0.00546793716197\n",
      "0.113495174879\n",
      "0.152687284478\n",
      "0.155395432655\n",
      "0.0185537627454\n",
      "-0.145005064146\n",
      "0.0315469469411\n",
      "0.0243532751704\n",
      "-0.087103216206\n",
      "0.149378489319\n",
      "-0.0653910541888\n",
      "-0.118317584609\n",
      "0.051611972243\n"
     ]
    },
    {
     "data": {
      "image/png": "[encoded data removed]",
      "text/plain": [
       "<matplotlib.figure.Figure at 0x10ea78080>"
      ]
     },
     "metadata": {},
     "output_type": "display_data"
    }
   ],
   "source": [
    "#Calculate Correlation Matrix\n",
    "\n",
    "corrcoef_mat = np.corrcoef(X, rowvar = False)\n",
    "figure = plt.matshow(corrcoef_mat)\n",
    "plt.colorbar()\n",
    "figure.set_clim(-1,1)\n",
    "print(corrcoef_mat)\n",
    "\n",
    "#Correlation with Features\n",
    "print('\\n \\n')\n",
    "for i in range(X.shape[1]):\n",
    "    print(np.corrcoef(X[:, i], y)[0,1])"
   ]
  },
  {
   "cell_type": "code",
   "execution_count": 6,
   "metadata": {
    "collapsed": true
   },
   "outputs": [],
   "source": [
    "from sklearn.model_selection import train_test_split  \n",
    "X_train, X_test, y_train, y_test = train_test_split(X, y, test_size=0.20) "
   ]
  },
  {
   "cell_type": "code",
   "execution_count": 7,
   "metadata": {},
   "outputs": [
    {
     "name": "stdout",
     "output_type": "stream",
     "text": [
      "accuracy =  0.646153846154\n",
      "mse =  0.353846153846\n"
     ]
    }
   ],
   "source": [
    "#Apply the regression\n",
    "model = LogisticRegression()\n",
    "model.fit(X_train, y_train)\n",
    "predicted_classes = model.predict(X_test)\n",
    "\n",
    "#calculate accuracy\n",
    "accuracy = accuracy_score(y_test.flatten(),predicted_classes)\n",
    "print('accuracy = ',accuracy)\n",
    "\n",
    "#Calculate MSE\n",
    "from sklearn.metrics import mean_squared_error\n",
    "mse = mean_squared_error(predicted_classes, y_test)\n",
    "print('mse = ',mse)\n"
   ]
  },
  {
   "cell_type": "code",
   "execution_count": 8,
   "metadata": {},
   "outputs": [
    {
     "name": "stdout",
     "output_type": "stream",
     "text": [
      "[0 2 2 1 0 2 0 0 2 2 2 2 2 2 2 0 1 2 2 0 0 0 1 1 1 1 1 2 0 0 1 2 2 0 2 2 2\n",
      " 1 0 0 1 2 2 0 0 1 1 1 0 1 2 2 0 2 1 1 2 0 2 1 1 2 2 2 0]\n",
      "\n",
      " VS \n",
      "\n",
      "[0 1 1 0 1 1 0 1 2 1 2 1 2 2 2 0 0 2 1 1 0 0 1 1 1 0 1 1 0 1 0 2 2 0 2 2 2\n",
      " 0 1 0 1 2 2 0 0 0 1 1 0 1 1 2 0 1 1 1 2 0 1 2 0 2 2 2 0]\n"
     ]
    }
   ],
   "source": [
    "print(predicted_classes)\n",
    "print('\\n VS \\n')\n",
    "print(y_test)"
   ]
  },
  {
   "cell_type": "code",
   "execution_count": null,
   "metadata": {
    "collapsed": true
   },
   "outputs": [],
   "source": []
  }
 ],
 "metadata": {
  "kernelspec": {
   "display_name": "Python 3",
   "language": "python",
   "name": "python3"
  },
  "language_info": {
   "codemirror_mode": {
    "name": "ipython",
    "version": 3
   },
   "file_extension": ".py",
   "mimetype": "text/x-python",
   "name": "python",
   "nbconvert_exporter": "python",
   "pygments_lexer": "ipython3",
   "version": "3.6.3"
  }
 },
 "nbformat": 4,
 "nbformat_minor": 2
}
