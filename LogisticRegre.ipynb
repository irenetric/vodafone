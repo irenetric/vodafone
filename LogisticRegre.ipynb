{
 "cells": [
  {
   "cell_type": "code",
   "execution_count": null,
   "metadata": {},
   "outputs": [],
   "source": [
    "import os\n",
    "# Retrieve current working directory (`cwd`)\n",
    "cwd = os.getcwd()\n",
    "cwd\n",
    "\n",
    "# Change directory \n",
    "os.chdir(\"/Users/alex/Desktop/vodafone\")\n",
    "\n",
    "# List all files and directories in current directory\n",
    "os.listdir('.')"
   ]
  },
  {
   "cell_type": "code",
   "execution_count": null,
   "metadata": {
    "collapsed": true
   },
   "outputs": [],
   "source": [
    "#Some packages\n",
    "\n",
    "import pandas as pd\n",
    "import numpy as np\n",
    "import matplotlib.pyplot as plt\n",
    "%matplotlib inline\n",
    "from sklearn.linear_model import LogisticRegression\n",
    "from sklearn.metrics import accuracy_score \n",
    "\n",
    "#Load data without storeID\n",
    "df=pd.read_csv('data_train1.csv')\n",
    "df=df.drop(['Store_ID'],axis=1)"
   ]
  },
  {
   "cell_type": "code",
   "execution_count": null,
   "metadata": {},
   "outputs": [],
   "source": [
    "#Fix the missing values\n",
    "\n",
    "df['Metratura_scaled'] = df['Metratura_scaled'].replace(0, np.NaN)\n",
    "# count the number of NaN values in each column\n",
    "print(df.isnull().sum())\n",
    "print(df.shape)\n",
    "#Substitute the Nan with the mean \n",
    "df.fillna(df['Metratura_scaled'].mean(), inplace=True)\n",
    "print(df)"
   ]
  },
  {
   "cell_type": "code",
   "execution_count": null,
   "metadata": {
    "collapsed": true
   },
   "outputs": [],
   "source": [
    "#Choose the target \n",
    "\n",
    "X=df.iloc[:,:-1].values\n",
    "y=df['Footfall_classif'].values"
   ]
  },
  {
   "cell_type": "code",
   "execution_count": null,
   "metadata": {},
   "outputs": [],
   "source": [
    "#Calculate Correlation Matrix\n",
    "\n",
    "corrcoef_mat = np.corrcoef(X, rowvar = False)\n",
    "figure = plt.matshow(corrcoef_mat)\n",
    "plt.colorbar()\n",
    "figure.set_clim(-1,1)\n",
    "print(corrcoef_mat)\n",
    "\n",
    "#Correlation with Features\n",
    "\n",
    "for i in range(X.shape[1]):\n",
    "    print(np.corrcoef(X[:, i], y)[0,1])"
   ]
  },
  {
   "cell_type": "code",
   "execution_count": null,
   "metadata": {
    "collapsed": true
   },
   "outputs": [],
   "source": [
    "from sklearn.model_selection import train_test_split  \n",
    "X_train, X_test, y_train, y_test = train_test_split(X, y, test_size=0.20) "
   ]
  },
  {
   "cell_type": "code",
   "execution_count": null,
   "metadata": {},
   "outputs": [],
   "source": [
    "#Apply the regression\n",
    "model = LogisticRegression()\n",
    "model.fit(X_train, y_train)\n",
    "predicted_classes = model.predict(X_test)\n",
    "\n",
    "#calculate accuracy\n",
    "accuracy = accuracy_score(y_test.flatten(),predicted_classes)\n",
    "print(accuracy)\n",
    "\n",
    "#Calculate MSE\n",
    "from sklearn.metrics import mean_squared_error\n",
    "mse = mean_squared_error(predicted_classes, y_test)\n",
    "print('mse = ',mse)\n"
   ]
  },
  {
   "cell_type": "code",
   "execution_count": null,
   "metadata": {},
   "outputs": [],
   "source": [
    "print(predicted_classes)\n",
    "print('\\n VS \\n')\n",
    "print(y_test)"
   ]
  }
 ],
 "metadata": {
  "kernelspec": {
   "display_name": "Python 3",
   "language": "python",
   "name": "python3"
  },
  "language_info": {
   "codemirror_mode": {
    "name": "ipython",
    "version": 3
   },
   "file_extension": ".py",
   "mimetype": "text/x-python",
   "name": "python",
   "nbconvert_exporter": "python",
   "pygments_lexer": "ipython3",
   "version": "3.6.3"
  }
 },
 "nbformat": 4,
 "nbformat_minor": 2
}
